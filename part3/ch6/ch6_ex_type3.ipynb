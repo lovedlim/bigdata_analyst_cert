{
  "cells": [
    {
      "cell_type": "markdown",
      "source": [
        "[구글 코랩(Colab)에서 실행하기](https://colab.research.google.com/github/lovedlim/bigdata_analyst_cert/blob/main/part3/ch6/ch6_ex_type3.ipynb)"
      ],
      "metadata": {
        "id": "nlRMN52jh6dF"
      }
    },
    {
      "cell_type": "markdown",
      "metadata": {
        "id": "rIah9uDls8Y4"
      },
      "source": [
        "### Section1."
      ]
    },
    {
      "cell_type": "code",
      "execution_count": 3,
      "metadata": {
        "id": "YdGBSoK7ss18"
      },
      "outputs": [],
      "source": [
        "# 데이터\n",
        "import pandas as pd\n",
        "df = pd.DataFrame({\n",
        "    'Caffeine(mg)': [\n",
        "        94.2, 93.7, 95.5, 93.9, 94.0, 95.2, 94.7, 93.5, 92.8, 94.4,\n",
        "        93.8, 94.6, 93.3, 95.1, 94.3, 94.9, 93.9, 94.8, 95.0, 94.2,\n",
        "        93.7, 94.4, 95.1, 94.0, 93.6\n",
        "    ]\n",
        "})"
      ]
    },
    {
      "cell_type": "code",
      "execution_count": 4,
      "metadata": {
        "colab": {
          "base_uri": "https://localhost:8080/"
        },
        "id": "eznrJoqNu2Y-",
        "outputId": "490e1f26-7b4c-4107-e13c-ce201ce85a05"
      },
      "outputs": [
        {
          "output_type": "stream",
          "name": "stdout",
          "text": [
            "Caffeine(mg)    94.264\n",
            "dtype: float64\n",
            "ShapiroResult(statistic=0.9826578166170536, pvalue=0.9322031137746971)\n",
            "TtestResult(statistic=-5.501737036221897, pvalue=5.8686553916715e-06, df=24)\n"
          ]
        }
      ],
      "source": [
        "# 1. 표본 평균\n",
        "print(df.mean())\n",
        "\n",
        "# 2. 정규성 검정\n",
        "from scipy import stats\n",
        "print(stats.shapiro(df['Caffeine(mg)']))\n",
        "\n",
        "# 3~5.단일 표본 t-검정\n",
        "print(stats.ttest_1samp(df['Caffeine(mg)'], 95, alternative='less'))"
      ]
    },
    {
      "cell_type": "code",
      "execution_count": 5,
      "metadata": {
        "colab": {
          "base_uri": "https://localhost:8080/"
        },
        "id": "YautJB8WtPId",
        "outputId": "7da6b6c4-c73c-4175-87e3-24b0dd5283a8"
      },
      "outputs": [
        {
          "output_type": "stream",
          "name": "stdout",
          "text": [
            "0.0000058687\n"
          ]
        }
      ],
      "source": [
        "statistic, pvalue = stats.ttest_1samp(df['Caffeine(mg)'], 95, alternative='less')\n",
        "print(\"{:.10f}\".format(pvalue))"
      ]
    },
    {
      "cell_type": "markdown",
      "metadata": {
        "id": "4jmb8WXluI9Z"
      },
      "source": [
        "### Section2."
      ]
    },
    {
      "cell_type": "code",
      "execution_count": 6,
      "metadata": {
        "colab": {
          "base_uri": "https://localhost:8080/"
        },
        "id": "TGuEitO6uDRd",
        "outputId": "25910e41-a6f2-4367-e00a-4118beb1d7ed"
      },
      "outputs": [
        {
          "output_type": "stream",
          "name": "stdout",
          "text": [
            "   충전기  충전시간\n",
            "0  New   1.5\n",
            "1  New   1.6\n"
          ]
        }
      ],
      "source": [
        "# 데이터\n",
        "import pandas as pd\n",
        "df = pd.DataFrame({\n",
        "    '충전기': ['New'] * 10 + ['Old'] * 10,\n",
        "    '충전시간': [\n",
        "        1.5, 1.6, 1.4, 1.7, 1.5, 1.6, 1.7, 1.4, 1.6, 1.5,\n",
        "        1.7, 1.8, 1.7, 1.9, 1.8, 1.7, 1.8, 1.9, 1.7, 1.6\n",
        "    ]\n",
        "})\n",
        "print(df.head(2))"
      ]
    },
    {
      "cell_type": "code",
      "execution_count": 7,
      "metadata": {
        "colab": {
          "base_uri": "https://localhost:8080/"
        },
        "id": "kRpNDnEBz-PJ",
        "outputId": "749e7cb0-55d8-44e3-c7c4-fbee7f3341ba"
      },
      "outputs": [
        {
          "output_type": "stream",
          "name": "stdout",
          "text": [
            "TtestResult(statistic=-4.582575694955849, pvalue=0.00011546547787696304, df=18.0)\n"
          ]
        }
      ],
      "source": [
        "# 1~3. 독립 표본 t-검정\n",
        "new_cond = df['충전기'] == 'New'\n",
        "old_cond = df['충전기'] == 'Old'\n",
        "print(stats.ttest_ind(df[new_cond]['충전시간'], df[old_cond]['충전시간'], alternative='less', equal_var=True))"
      ]
    },
    {
      "cell_type": "markdown",
      "metadata": {
        "id": "ei2s5M8I73GN"
      },
      "source": [
        "### Section3."
      ]
    },
    {
      "cell_type": "code",
      "execution_count": 8,
      "metadata": {
        "colab": {
          "base_uri": "https://localhost:8080/"
        },
        "id": "o45YbWXS74OE",
        "outputId": "705375ae-93a7-465b-d32d-bfc4a8c5313e"
      },
      "outputs": [
        {
          "output_type": "stream",
          "name": "stdout",
          "text": [
            "   User  기존방법  새로운방법\n",
            "0     1  60.4   59.8\n",
            "1     2  60.7   60.2\n"
          ]
        }
      ],
      "source": [
        "# 데이터\n",
        "import pandas as pd\n",
        "df = pd.DataFrame({\n",
        "    'User': list(range(1, 11)),\n",
        "    '기존방법': [60.4, 60.7, 60.5, 60.3, 60.8, 60.6, 60.2, 60.5, 60.7, 60.4],\n",
        "    '새로운방법': [59.8, 60.2, 60.1, 59.9, 59.7, 58.4, 57.0, 60.3, 59.6, 59.8]\n",
        "})\n",
        "print(df.head(2))"
      ]
    },
    {
      "cell_type": "code",
      "execution_count": 9,
      "metadata": {
        "colab": {
          "base_uri": "https://localhost:8080/"
        },
        "id": "cgV_7XCj78y9",
        "outputId": "bde62b57-5e7d-4760-d3b4-cba9fd54522d"
      },
      "outputs": [
        {
          "output_type": "stream",
          "name": "stdout",
          "text": [
            "-1.0300000000000005\n",
            "TtestResult(statistic=-3.407973078114844, pvalue=0.0038872633380070652, df=9)\n"
          ]
        }
      ],
      "source": [
        "# 1. 표본 평균\n",
        "df['diff'] = df['새로운방법'] - df['기존방법']\n",
        "print(df['diff'].mean())\n",
        "\n",
        "# 2~4. 대응 표본 t-검정\n",
        "print(stats.ttest_rel(df['새로운방법'], df['기존방법'], alternative='less'))"
      ]
    },
    {
      "cell_type": "markdown",
      "metadata": {
        "id": "MU5342Fp74lz"
      },
      "source": [
        "### Section4."
      ]
    },
    {
      "cell_type": "code",
      "source": [
        "import pandas as pd\n",
        "# df = pd.read_csv(\"math.csv\")\n",
        "df = pd.read_csv(\"https://raw.githubusercontent.com/lovedlim/bigdata_analyst_cert/main/part3/ch6/math.csv\")\n",
        "print(df.head())"
      ],
      "metadata": {
        "colab": {
          "base_uri": "https://localhost:8080/"
        },
        "id": "8j386IAO1M5I",
        "outputId": "401f8737-f17b-4732-a34f-be30cd5c3704"
      },
      "execution_count": 10,
      "outputs": [
        {
          "output_type": "stream",
          "name": "stdout",
          "text": [
            "    groups  scores\n",
            "0  group_A      85\n",
            "1  group_A      88\n",
            "2  group_A      90\n",
            "3  group_A      82\n",
            "4  group_A      87\n"
          ]
        }
      ]
    },
    {
      "cell_type": "code",
      "source": [
        "from scipy import stats\n",
        "\n",
        "# 1. Shapiro-Wilk 검정 (정규성)\n",
        "condA = df['groups']=='group_A'\n",
        "print(stats.shapiro(df[condA]['scores']))\n",
        "\n",
        "condB = df['groups']=='group_B'\n",
        "print(stats.shapiro(df[condB]['scores']))\n",
        "\n",
        "condC = df['groups']=='group_C'\n",
        "print(stats.shapiro(df[condC]['scores']))\n",
        "\n",
        "condD = df['groups']=='group_D'\n",
        "print(stats.shapiro(df[condD]['scores']))\n",
        "\n",
        "# 2. Levene 검정 (등분산성)\n",
        "print(stats.levene(df[condA]['scores'], df[condB]['scores'], df[condC]['scores'], df[condD]['scores']))"
      ],
      "metadata": {
        "colab": {
          "base_uri": "https://localhost:8080/"
        },
        "id": "JeIkwEkY1wFY",
        "outputId": "46e0a2bc-60c3-4a1c-abc8-daaed142be50"
      },
      "execution_count": 11,
      "outputs": [
        {
          "output_type": "stream",
          "name": "stdout",
          "text": [
            "ShapiroResult(statistic=0.9715896670696531, pvalue=0.9051800443853569)\n",
            "ShapiroResult(statistic=0.9499422438060351, pvalue=0.6678172590861611)\n",
            "ShapiroResult(statistic=0.9299424104842702, pvalue=0.44732595113862045)\n",
            "ShapiroResult(statistic=0.9065684572704982, pvalue=0.25824165549017347)\n",
            "LeveneResult(statistic=1.757685352622062, pvalue=0.17270284963232108)\n"
          ]
        }
      ]
    },
    {
      "cell_type": "code",
      "source": [
        "# 일원분산분석을 위한 모델 학습\n",
        "from statsmodels.formula.api import ols\n",
        "model = ols('scores ~ groups', df).fit()\n",
        "\n",
        "# 3~9. ANOVA 테이블\n",
        "from statsmodels.stats.anova import anova_lm\n",
        "print(anova_lm(model))"
      ],
      "metadata": {
        "colab": {
          "base_uri": "https://localhost:8080/"
        },
        "id": "qVILWYjPt6ly",
        "outputId": "42e8b067-c9d1-40fc-bf3e-ea0c3d605e55"
      },
      "execution_count": 12,
      "outputs": [
        {
          "output_type": "stream",
          "name": "stdout",
          "text": [
            "            df  sum_sq     mean_sq          F        PR(>F)\n",
            "groups     3.0   411.8  137.266667  34.174274  1.240642e-10\n",
            "Residual  36.0   144.6    4.016667        NaN           NaN\n"
          ]
        }
      ]
    },
    {
      "cell_type": "markdown",
      "source": [
        "### Section5."
      ],
      "metadata": {
        "id": "Zmtdhqk-2_XA"
      }
    },
    {
      "cell_type": "code",
      "source": [
        "# 데이터\n",
        "import pandas as pd\n",
        "# df = pd.read_csv(\"tomato2.csv\")\n",
        "df = pd.read_csv(\"https://raw.githubusercontent.com/lovedlim/bigdata_analyst_cert/main/part3/ch6/tomato2.csv\")\n",
        "print(df.head())"
      ],
      "metadata": {
        "id": "DU30cD1I2-5F",
        "colab": {
          "base_uri": "https://localhost:8080/"
        },
        "outputId": "de84848d-9811-42f6-8d3b-13d6aea416ab"
      },
      "execution_count": 13,
      "outputs": [
        {
          "output_type": "stream",
          "name": "stdout",
          "text": [
            "  비료유형  물주기  수확량\n",
            "0    A    1  514\n",
            "1    A    1  480\n",
            "2    A    1  507\n",
            "3    A    2  452\n",
            "4    A    2  526\n"
          ]
        }
      ]
    },
    {
      "cell_type": "code",
      "source": [
        "import statsmodels.api as sm\n",
        "from statsmodels.formula.api import ols\n",
        "\n",
        "# 1~9 이원 분산 분석\n",
        "model = ols('수확량 ~ C(비료유형) * C(물주기)', data=df).fit()\n",
        "anova_table = sm.stats.anova_lm(model)\n",
        "print(anova_table)"
      ],
      "metadata": {
        "id": "1J0N5JajP93i",
        "colab": {
          "base_uri": "https://localhost:8080/"
        },
        "outputId": "859f6062-8646-41b7-e83f-e70362f870d7"
      },
      "execution_count": 14,
      "outputs": [
        {
          "output_type": "stream",
          "name": "stdout",
          "text": [
            "                  df        sum_sq      mean_sq         F    PR(>F)\n",
            "C(비료유형)          2.0   5251.722222  2625.861111  3.184685  0.059334\n",
            "C(물주기)           3.0   9057.000000  3019.000000  3.661490  0.026460\n",
            "C(비료유형):C(물주기)   6.0   4271.833333   711.972222  0.863491  0.535426\n",
            "Residual        24.0  19788.666667   824.527778       NaN       NaN\n"
          ]
        }
      ]
    },
    {
      "cell_type": "markdown",
      "source": [
        "### Section6."
      ],
      "metadata": {
        "id": "MPnLvlVkTKR-"
      }
    },
    {
      "cell_type": "code",
      "source": [
        "# 1. 교통사고 5회 이상 경험 비율\n",
        "print(30 / 1000)\n",
        "\n",
        "# 2~4. 적합도 검정\n",
        "from scipy.stats import chisquare\n",
        "observed = [550, 250, 100, 70, 30]\n",
        "expected = [1000*0.60, 1000*0.25, 1000*0.08, 1000*0.05, 1000*0.02]\n",
        "print(chisquare(observed, expected))"
      ],
      "metadata": {
        "id": "eXPWPwWuTDql",
        "colab": {
          "base_uri": "https://localhost:8080/"
        },
        "outputId": "f69e7c35-1d29-4d80-be37-711bc3bdd9ac"
      },
      "execution_count": 15,
      "outputs": [
        {
          "output_type": "stream",
          "name": "stdout",
          "text": [
            "0.03\n",
            "Power_divergenceResult(statistic=22.166666666666668, pvalue=0.00018567620386641427)\n"
          ]
        }
      ]
    },
    {
      "cell_type": "markdown",
      "source": [
        "### Section7."
      ],
      "metadata": {
        "id": "0zBxYKgtTLyd"
      }
    },
    {
      "cell_type": "code",
      "source": [
        "import pandas as pd\n",
        "from scipy.stats import chi2_contingency\n",
        "\n",
        "# 1~3. 독립성 검정\n",
        "observed = pd.DataFrame([[50, 30], [60, 40]])\n",
        "print(chi2_contingency(observed))"
      ],
      "metadata": {
        "id": "7-6Xuq7HTDyy",
        "colab": {
          "base_uri": "https://localhost:8080/"
        },
        "outputId": "5a162f4b-ae42-43b1-e34b-56d5aecfa804"
      },
      "execution_count": 16,
      "outputs": [
        {
          "output_type": "stream",
          "name": "stdout",
          "text": [
            "Chi2ContingencyResult(statistic=0.03535714285714309, pvalue=0.8508492527705047, dof=1, expected_freq=array([[48.88888889, 31.11111111],\n",
            "       [61.11111111, 38.88888889]]))\n"
          ]
        }
      ]
    },
    {
      "cell_type": "code",
      "source": [
        "# 데이터\n",
        "import pandas as pd\n",
        "df = pd.DataFrame({\n",
        "        '캠프': ['빅분기']*80 + ['정처기']*100,\n",
        "        '등록여부': ['등록']*50 + ['등록안함']*30 + ['등록']*60 + ['등록안함']*40\n",
        "})\n",
        "print(df.head())"
      ],
      "metadata": {
        "id": "hiW56w1DTD1L",
        "colab": {
          "base_uri": "https://localhost:8080/"
        },
        "outputId": "46e7a24a-5316-443a-d1f7-afe5bf9a983b"
      },
      "execution_count": 17,
      "outputs": [
        {
          "output_type": "stream",
          "name": "stdout",
          "text": [
            "    캠프 등록여부\n",
            "0  빅분기   등록\n",
            "1  빅분기   등록\n",
            "2  빅분기   등록\n",
            "3  빅분기   등록\n",
            "4  빅분기   등록\n"
          ]
        }
      ]
    },
    {
      "cell_type": "code",
      "source": [
        "# 교차표로 변경\n",
        "df = pd.crosstab(df['캠프'], df['등록여부'])\n",
        "print(df)\n",
        "\n",
        "# 4~6. 독립성 검정\n",
        "print(chi2_contingency(df))"
      ],
      "metadata": {
        "id": "sYn61RTV7egq",
        "colab": {
          "base_uri": "https://localhost:8080/"
        },
        "outputId": "179f0e5d-8e29-4b5f-9b72-d5fd6ea44f66"
      },
      "execution_count": 18,
      "outputs": [
        {
          "output_type": "stream",
          "name": "stdout",
          "text": [
            "등록여부  등록  등록안함\n",
            "캠프            \n",
            "빅분기   50    30\n",
            "정처기   60    40\n",
            "Chi2ContingencyResult(statistic=0.03535714285714309, pvalue=0.8508492527705047, dof=1, expected_freq=array([[48.88888889, 31.11111111],\n",
            "       [61.11111111, 38.88888889]]))\n"
          ]
        }
      ]
    },
    {
      "cell_type": "markdown",
      "metadata": {
        "id": "BTpNhSDU751h"
      },
      "source": [
        "### Section8."
      ]
    },
    {
      "cell_type": "code",
      "source": [
        "# 데이터\n",
        "import pandas as pd\n",
        "df = pd.DataFrame({\n",
        "    '할인율': [28, 24, 13, 0, 27, 30, 10, 16, 6, 5, 7, 11, 11, 30, 25,\n",
        "            4, 7, 24, 19, 21, 6, 10, 26, 13, 15, 6, 12, 6, 20, 2],\n",
        "    '온도': [15, 34, 15, 22, 29, 30, 14, 17, 28, 29, 19, 19, 34, 10,\n",
        "           29, 28, 12, 25, 32, 28, 22, 16, 30, 11, 16, 18, 16, 33, 12, 22],\n",
        "    '광고비': [342, 666, 224, 764, 148, 499, 711, 596, 797, 484, 986, 347, 146, 362, 642,\n",
        "            591, 846, 260, 560, 941, 469, 309, 730, 305, 892, 147, 887, 526, 525, 884],\n",
        "    '주문량': [635, 958, 525, 25, 607, 872, 858, 732, 1082, 863, 904, 686, 699, 615, 893,\n",
        "            830, 856, 679, 918, 951, 789, 583, 988, 631, 866, 549, 910, 946, 647, 943]\n",
        "})\n",
        "print(df.head(3))"
      ],
      "metadata": {
        "colab": {
          "base_uri": "https://localhost:8080/"
        },
        "id": "krDzI0y-rXNr",
        "outputId": "db199b94-9831-4a8c-bf68-178e1fdf2d4a"
      },
      "execution_count": 19,
      "outputs": [
        {
          "output_type": "stream",
          "name": "stdout",
          "text": [
            "   할인율  온도  광고비  주문량\n",
            "0   28  15  342  635\n",
            "1   24  34  666  958\n",
            "2   13  15  224  525\n"
          ]
        }
      ]
    },
    {
      "cell_type": "code",
      "source": [
        "# 다중 선형 회귀 모델 적합\n",
        "from statsmodels.formula.api import ols\n",
        "model = ols('주문량 ~ 할인율 + 온도 + 광고비', data=df).fit()\n",
        "\n",
        "# 1. 상관계수\n",
        "print(\"1. 상관계수:\", round(df['할인율'].corr(df['온도']), 2))\n",
        "\n",
        "# 2. 결정계수\n",
        "print(\"2. 결정계수(R-squared):\", round(model.rsquared, 2))\n",
        "\n",
        "# 3. 회귀계수(기울기)\n",
        "print(\"3. 회귀계수:\", round(model.params, 4))\n",
        "\n",
        "# 4. 절편\n",
        "print(\"4. 절편:\", round(model.params['Intercept'], 4))\n",
        "\n",
        "# 5. 회귀계수 검정\n",
        "print(\"5. pvalue:\", round(model.pvalues['온도'], 4))\n",
        "\n",
        "# 6. 예측 판매량\n",
        "new_data = pd.DataFrame({\"할인율\": [10], \"온도\": [20], \"광고비\": [500]})\n",
        "result = model.predict(new_data)\n",
        "print(\"6. 새로운 데이터:\", int(result[0]))\n",
        "\n",
        "# 7. 잔차 제곱합\n",
        "df['잔차'] = df['주문량'] - model.predict(df)\n",
        "print(\"7. 잔차 제곱합:\", round(sum(df['잔차']**2), 2))\n",
        "\n",
        "# 8. MSE(Mean Squared Error)\n",
        "MSE = (df['잔차'] ** 2).mean()\n",
        "print('8. MSE:', round(MSE, 4))\n",
        "\n",
        "# 9. 각 변수에 대한 90% 신뢰구간\n",
        "print(\"9. 신뢰구간:\\n\", model.conf_int(alpha=0.1))\n",
        "\n",
        "# 10. 새로운 데이터의 예측값의 90% 신뢰구간과 예측구간\n",
        "new_data = pd.DataFrame({\"할인율\": [15], \"온도\": [25], \"광고비\": [300]})\n",
        "pred = model.get_prediction(new_data)\n",
        "result = pred.summary_frame(alpha=0.1)\n",
        "print(\"10. 예측값의 신뢰구간과 예측구간:\\n\", result)\n",
        "\n",
        "# 11. 광고비는 배달 주문량에 영향을 주는지 가설 검정\n",
        "cond = model.pvalues['광고비'] < 0.05\n",
        "if cond:\n",
        "    result = \"기각\"\n",
        "else:\n",
        "    result = \"채택\"\n",
        "print(\"11. 귀무가설\", result)\n",
        "\n",
        "# 선형 회귀 모델의 요약 결과\n",
        "print(model.summary())"
      ],
      "metadata": {
        "colab": {
          "base_uri": "https://localhost:8080/"
        },
        "id": "4QqMcXwgTPcT",
        "outputId": "3ed404e1-e1ee-40d0-eb18-2fb542e92166"
      },
      "execution_count": 20,
      "outputs": [
        {
          "output_type": "stream",
          "name": "stdout",
          "text": [
            "1. 상관계수: 0.09\n",
            "2. 결정계수(R-squared): 0.4\n",
            "3. 회귀계수: Intercept    267.6609\n",
            "할인율            4.2068\n",
            "온도             9.4798\n",
            "광고비            0.4148\n",
            "dtype: float64\n",
            "4. 절편: 267.6609\n",
            "5. pvalue: 0.0289\n",
            "6. 새로운 데이터: 706\n",
            "7. 잔차 제곱합: 732197.9\n",
            "8. MSE: 24406.5966\n",
            "9. 신뢰구간:\n",
            "                    0           1\n",
            "Intercept  45.955720  489.366084\n",
            "할인율        -1.847229   10.260887\n",
            "온도          2.490702   16.468984\n",
            "광고비         0.201064    0.628589\n",
            "10. 예측값의 신뢰구간과 예측구간:\n",
            "          mean    mean_se  mean_ci_lower  mean_ci_upper  obs_ci_lower  \\\n",
            "0  692.207386  45.555397     614.507283     769.907488    395.622293   \n",
            "\n",
            "   obs_ci_upper  \n",
            "0    988.792478  \n",
            "11. 귀무가설 기각\n",
            "                            OLS Regression Results                            \n",
            "==============================================================================\n",
            "Dep. Variable:                    주문량   R-squared:                       0.400\n",
            "Model:                            OLS   Adj. R-squared:                  0.330\n",
            "Method:                 Least Squares   F-statistic:                     5.770\n",
            "Date:                Sun, 24 Nov 2024   Prob (F-statistic):            0.00366\n",
            "Time:                        02:46:58   Log-Likelihood:                -194.11\n",
            "No. Observations:                  30   AIC:                             396.2\n",
            "Df Residuals:                      26   BIC:                             401.8\n",
            "Df Model:                           3                                         \n",
            "Covariance Type:            nonrobust                                         \n",
            "==============================================================================\n",
            "                 coef    std err          t      P>|t|      [0.025      0.975]\n",
            "------------------------------------------------------------------------------\n",
            "Intercept    267.6609    129.985      2.059      0.050       0.472     534.849\n",
            "할인율            4.2068      3.549      1.185      0.247      -3.089      11.503\n",
            "온도             9.4798      4.098      2.313      0.029       1.057      17.903\n",
            "광고비            0.4148      0.125      3.310      0.003       0.157       0.672\n",
            "==============================================================================\n",
            "Omnibus:                       56.788   Durbin-Watson:                   1.647\n",
            "Prob(Omnibus):                  0.000   Jarque-Bera (JB):              419.005\n",
            "Skew:                          -3.845   Prob(JB):                     1.03e-91\n",
            "Kurtosis:                      19.616   Cond. No.                     2.58e+03\n",
            "==============================================================================\n",
            "\n",
            "Notes:\n",
            "[1] Standard Errors assume that the covariance matrix of the errors is correctly specified.\n",
            "[2] The condition number is large, 2.58e+03. This might indicate that there are\n",
            "strong multicollinearity or other numerical problems.\n"
          ]
        }
      ]
    },
    {
      "cell_type": "markdown",
      "source": [
        "### Section9."
      ],
      "metadata": {
        "id": "qn6BR7CQrUVt"
      }
    },
    {
      "cell_type": "code",
      "source": [
        "import pandas as pd\n",
        "# df = pd.read_csv(\"customer_travel.csv\")\n",
        "df = pd.read_csv(\"https://raw.githubusercontent.com/lovedlim/bigdata_analyst_cert/refs/heads/main/part3/ch6/customer_travel.csv\")\n",
        "\n",
        "df.head()"
      ],
      "metadata": {
        "colab": {
          "base_uri": "https://localhost:8080/",
          "height": 206
        },
        "id": "k1Czox3XGc2_",
        "outputId": "62f52468-c6bb-41c2-e107-8313370be1fb"
      },
      "execution_count": 21,
      "outputs": [
        {
          "output_type": "execute_result",
          "data": {
            "text/plain": [
              "   age  service  social  booked  target\n",
              "0   34        6       0       1       0\n",
              "1   34        5       1       0       1\n",
              "2   37        3       1       0       0\n",
              "3   30        2       0       0       0\n",
              "4   30        1       0       0       0"
            ],
            "text/html": [
              "\n",
              "  <div id=\"df-6e590114-b579-4d81-a2b9-311a8eb2f917\" class=\"colab-df-container\">\n",
              "    <div>\n",
              "<style scoped>\n",
              "    .dataframe tbody tr th:only-of-type {\n",
              "        vertical-align: middle;\n",
              "    }\n",
              "\n",
              "    .dataframe tbody tr th {\n",
              "        vertical-align: top;\n",
              "    }\n",
              "\n",
              "    .dataframe thead th {\n",
              "        text-align: right;\n",
              "    }\n",
              "</style>\n",
              "<table border=\"1\" class=\"dataframe\">\n",
              "  <thead>\n",
              "    <tr style=\"text-align: right;\">\n",
              "      <th></th>\n",
              "      <th>age</th>\n",
              "      <th>service</th>\n",
              "      <th>social</th>\n",
              "      <th>booked</th>\n",
              "      <th>target</th>\n",
              "    </tr>\n",
              "  </thead>\n",
              "  <tbody>\n",
              "    <tr>\n",
              "      <th>0</th>\n",
              "      <td>34</td>\n",
              "      <td>6</td>\n",
              "      <td>0</td>\n",
              "      <td>1</td>\n",
              "      <td>0</td>\n",
              "    </tr>\n",
              "    <tr>\n",
              "      <th>1</th>\n",
              "      <td>34</td>\n",
              "      <td>5</td>\n",
              "      <td>1</td>\n",
              "      <td>0</td>\n",
              "      <td>1</td>\n",
              "    </tr>\n",
              "    <tr>\n",
              "      <th>2</th>\n",
              "      <td>37</td>\n",
              "      <td>3</td>\n",
              "      <td>1</td>\n",
              "      <td>0</td>\n",
              "      <td>0</td>\n",
              "    </tr>\n",
              "    <tr>\n",
              "      <th>3</th>\n",
              "      <td>30</td>\n",
              "      <td>2</td>\n",
              "      <td>0</td>\n",
              "      <td>0</td>\n",
              "      <td>0</td>\n",
              "    </tr>\n",
              "    <tr>\n",
              "      <th>4</th>\n",
              "      <td>30</td>\n",
              "      <td>1</td>\n",
              "      <td>0</td>\n",
              "      <td>0</td>\n",
              "      <td>0</td>\n",
              "    </tr>\n",
              "  </tbody>\n",
              "</table>\n",
              "</div>\n",
              "    <div class=\"colab-df-buttons\">\n",
              "\n",
              "  <div class=\"colab-df-container\">\n",
              "    <button class=\"colab-df-convert\" onclick=\"convertToInteractive('df-6e590114-b579-4d81-a2b9-311a8eb2f917')\"\n",
              "            title=\"Convert this dataframe to an interactive table.\"\n",
              "            style=\"display:none;\">\n",
              "\n",
              "  <svg xmlns=\"http://www.w3.org/2000/svg\" height=\"24px\" viewBox=\"0 -960 960 960\">\n",
              "    <path d=\"M120-120v-720h720v720H120Zm60-500h600v-160H180v160Zm220 220h160v-160H400v160Zm0 220h160v-160H400v160ZM180-400h160v-160H180v160Zm440 0h160v-160H620v160ZM180-180h160v-160H180v160Zm440 0h160v-160H620v160Z\"/>\n",
              "  </svg>\n",
              "    </button>\n",
              "\n",
              "  <style>\n",
              "    .colab-df-container {\n",
              "      display:flex;\n",
              "      gap: 12px;\n",
              "    }\n",
              "\n",
              "    .colab-df-convert {\n",
              "      background-color: #E8F0FE;\n",
              "      border: none;\n",
              "      border-radius: 50%;\n",
              "      cursor: pointer;\n",
              "      display: none;\n",
              "      fill: #1967D2;\n",
              "      height: 32px;\n",
              "      padding: 0 0 0 0;\n",
              "      width: 32px;\n",
              "    }\n",
              "\n",
              "    .colab-df-convert:hover {\n",
              "      background-color: #E2EBFA;\n",
              "      box-shadow: 0px 1px 2px rgba(60, 64, 67, 0.3), 0px 1px 3px 1px rgba(60, 64, 67, 0.15);\n",
              "      fill: #174EA6;\n",
              "    }\n",
              "\n",
              "    .colab-df-buttons div {\n",
              "      margin-bottom: 4px;\n",
              "    }\n",
              "\n",
              "    [theme=dark] .colab-df-convert {\n",
              "      background-color: #3B4455;\n",
              "      fill: #D2E3FC;\n",
              "    }\n",
              "\n",
              "    [theme=dark] .colab-df-convert:hover {\n",
              "      background-color: #434B5C;\n",
              "      box-shadow: 0px 1px 3px 1px rgba(0, 0, 0, 0.15);\n",
              "      filter: drop-shadow(0px 1px 2px rgba(0, 0, 0, 0.3));\n",
              "      fill: #FFFFFF;\n",
              "    }\n",
              "  </style>\n",
              "\n",
              "    <script>\n",
              "      const buttonEl =\n",
              "        document.querySelector('#df-6e590114-b579-4d81-a2b9-311a8eb2f917 button.colab-df-convert');\n",
              "      buttonEl.style.display =\n",
              "        google.colab.kernel.accessAllowed ? 'block' : 'none';\n",
              "\n",
              "      async function convertToInteractive(key) {\n",
              "        const element = document.querySelector('#df-6e590114-b579-4d81-a2b9-311a8eb2f917');\n",
              "        const dataTable =\n",
              "          await google.colab.kernel.invokeFunction('convertToInteractive',\n",
              "                                                    [key], {});\n",
              "        if (!dataTable) return;\n",
              "\n",
              "        const docLinkHtml = 'Like what you see? Visit the ' +\n",
              "          '<a target=\"_blank\" href=https://colab.research.google.com/notebooks/data_table.ipynb>data table notebook</a>'\n",
              "          + ' to learn more about interactive tables.';\n",
              "        element.innerHTML = '';\n",
              "        dataTable['output_type'] = 'display_data';\n",
              "        await google.colab.output.renderOutput(dataTable, element);\n",
              "        const docLink = document.createElement('div');\n",
              "        docLink.innerHTML = docLinkHtml;\n",
              "        element.appendChild(docLink);\n",
              "      }\n",
              "    </script>\n",
              "  </div>\n",
              "\n",
              "\n",
              "<div id=\"df-436b5284-a5e6-4a1c-a346-e210e78a600d\">\n",
              "  <button class=\"colab-df-quickchart\" onclick=\"quickchart('df-436b5284-a5e6-4a1c-a346-e210e78a600d')\"\n",
              "            title=\"Suggest charts\"\n",
              "            style=\"display:none;\">\n",
              "\n",
              "<svg xmlns=\"http://www.w3.org/2000/svg\" height=\"24px\"viewBox=\"0 0 24 24\"\n",
              "     width=\"24px\">\n",
              "    <g>\n",
              "        <path d=\"M19 3H5c-1.1 0-2 .9-2 2v14c0 1.1.9 2 2 2h14c1.1 0 2-.9 2-2V5c0-1.1-.9-2-2-2zM9 17H7v-7h2v7zm4 0h-2V7h2v10zm4 0h-2v-4h2v4z\"/>\n",
              "    </g>\n",
              "</svg>\n",
              "  </button>\n",
              "\n",
              "<style>\n",
              "  .colab-df-quickchart {\n",
              "      --bg-color: #E8F0FE;\n",
              "      --fill-color: #1967D2;\n",
              "      --hover-bg-color: #E2EBFA;\n",
              "      --hover-fill-color: #174EA6;\n",
              "      --disabled-fill-color: #AAA;\n",
              "      --disabled-bg-color: #DDD;\n",
              "  }\n",
              "\n",
              "  [theme=dark] .colab-df-quickchart {\n",
              "      --bg-color: #3B4455;\n",
              "      --fill-color: #D2E3FC;\n",
              "      --hover-bg-color: #434B5C;\n",
              "      --hover-fill-color: #FFFFFF;\n",
              "      --disabled-bg-color: #3B4455;\n",
              "      --disabled-fill-color: #666;\n",
              "  }\n",
              "\n",
              "  .colab-df-quickchart {\n",
              "    background-color: var(--bg-color);\n",
              "    border: none;\n",
              "    border-radius: 50%;\n",
              "    cursor: pointer;\n",
              "    display: none;\n",
              "    fill: var(--fill-color);\n",
              "    height: 32px;\n",
              "    padding: 0;\n",
              "    width: 32px;\n",
              "  }\n",
              "\n",
              "  .colab-df-quickchart:hover {\n",
              "    background-color: var(--hover-bg-color);\n",
              "    box-shadow: 0 1px 2px rgba(60, 64, 67, 0.3), 0 1px 3px 1px rgba(60, 64, 67, 0.15);\n",
              "    fill: var(--button-hover-fill-color);\n",
              "  }\n",
              "\n",
              "  .colab-df-quickchart-complete:disabled,\n",
              "  .colab-df-quickchart-complete:disabled:hover {\n",
              "    background-color: var(--disabled-bg-color);\n",
              "    fill: var(--disabled-fill-color);\n",
              "    box-shadow: none;\n",
              "  }\n",
              "\n",
              "  .colab-df-spinner {\n",
              "    border: 2px solid var(--fill-color);\n",
              "    border-color: transparent;\n",
              "    border-bottom-color: var(--fill-color);\n",
              "    animation:\n",
              "      spin 1s steps(1) infinite;\n",
              "  }\n",
              "\n",
              "  @keyframes spin {\n",
              "    0% {\n",
              "      border-color: transparent;\n",
              "      border-bottom-color: var(--fill-color);\n",
              "      border-left-color: var(--fill-color);\n",
              "    }\n",
              "    20% {\n",
              "      border-color: transparent;\n",
              "      border-left-color: var(--fill-color);\n",
              "      border-top-color: var(--fill-color);\n",
              "    }\n",
              "    30% {\n",
              "      border-color: transparent;\n",
              "      border-left-color: var(--fill-color);\n",
              "      border-top-color: var(--fill-color);\n",
              "      border-right-color: var(--fill-color);\n",
              "    }\n",
              "    40% {\n",
              "      border-color: transparent;\n",
              "      border-right-color: var(--fill-color);\n",
              "      border-top-color: var(--fill-color);\n",
              "    }\n",
              "    60% {\n",
              "      border-color: transparent;\n",
              "      border-right-color: var(--fill-color);\n",
              "    }\n",
              "    80% {\n",
              "      border-color: transparent;\n",
              "      border-right-color: var(--fill-color);\n",
              "      border-bottom-color: var(--fill-color);\n",
              "    }\n",
              "    90% {\n",
              "      border-color: transparent;\n",
              "      border-bottom-color: var(--fill-color);\n",
              "    }\n",
              "  }\n",
              "</style>\n",
              "\n",
              "  <script>\n",
              "    async function quickchart(key) {\n",
              "      const quickchartButtonEl =\n",
              "        document.querySelector('#' + key + ' button');\n",
              "      quickchartButtonEl.disabled = true;  // To prevent multiple clicks.\n",
              "      quickchartButtonEl.classList.add('colab-df-spinner');\n",
              "      try {\n",
              "        const charts = await google.colab.kernel.invokeFunction(\n",
              "            'suggestCharts', [key], {});\n",
              "      } catch (error) {\n",
              "        console.error('Error during call to suggestCharts:', error);\n",
              "      }\n",
              "      quickchartButtonEl.classList.remove('colab-df-spinner');\n",
              "      quickchartButtonEl.classList.add('colab-df-quickchart-complete');\n",
              "    }\n",
              "    (() => {\n",
              "      let quickchartButtonEl =\n",
              "        document.querySelector('#df-436b5284-a5e6-4a1c-a346-e210e78a600d button');\n",
              "      quickchartButtonEl.style.display =\n",
              "        google.colab.kernel.accessAllowed ? 'block' : 'none';\n",
              "    })();\n",
              "  </script>\n",
              "</div>\n",
              "\n",
              "    </div>\n",
              "  </div>\n"
            ],
            "application/vnd.google.colaboratory.intrinsic+json": {
              "type": "dataframe",
              "variable_name": "df",
              "summary": "{\n  \"name\": \"df\",\n  \"rows\": 800,\n  \"fields\": [\n    {\n      \"column\": \"age\",\n      \"properties\": {\n        \"dtype\": \"number\",\n        \"std\": 3,\n        \"min\": 27,\n        \"max\": 38,\n        \"num_unique_values\": 11,\n        \"samples\": [\n          28,\n          34,\n          33\n        ],\n        \"semantic_type\": \"\",\n        \"description\": \"\"\n      }\n    },\n    {\n      \"column\": \"service\",\n      \"properties\": {\n        \"dtype\": \"number\",\n        \"std\": 1,\n        \"min\": 1,\n        \"max\": 6,\n        \"num_unique_values\": 6,\n        \"samples\": [\n          6,\n          5,\n          4\n        ],\n        \"semantic_type\": \"\",\n        \"description\": \"\"\n      }\n    },\n    {\n      \"column\": \"social\",\n      \"properties\": {\n        \"dtype\": \"number\",\n        \"std\": 0,\n        \"min\": 0,\n        \"max\": 1,\n        \"num_unique_values\": 2,\n        \"samples\": [\n          1,\n          0\n        ],\n        \"semantic_type\": \"\",\n        \"description\": \"\"\n      }\n    },\n    {\n      \"column\": \"booked\",\n      \"properties\": {\n        \"dtype\": \"number\",\n        \"std\": 0,\n        \"min\": 0,\n        \"max\": 1,\n        \"num_unique_values\": 2,\n        \"samples\": [\n          0,\n          1\n        ],\n        \"semantic_type\": \"\",\n        \"description\": \"\"\n      }\n    },\n    {\n      \"column\": \"target\",\n      \"properties\": {\n        \"dtype\": \"number\",\n        \"std\": 0,\n        \"min\": 0,\n        \"max\": 1,\n        \"num_unique_values\": 2,\n        \"samples\": [\n          1,\n          0\n        ],\n        \"semantic_type\": \"\",\n        \"description\": \"\"\n      }\n    }\n  ]\n}"
            }
          },
          "metadata": {},
          "execution_count": 21
        }
      ]
    },
    {
      "cell_type": "code",
      "source": [
        "# 데이터 분할\n",
        "midpoint = len(df) // 2 #몫(정수)\n",
        "a = df.iloc[:midpoint]\n",
        "b = df.iloc[midpoint:]\n",
        "\n",
        "# 데이터 확인\n",
        "a.shape, b.shape"
      ],
      "metadata": {
        "colab": {
          "base_uri": "https://localhost:8080/"
        },
        "id": "sD8jhX-UUeSx",
        "outputId": "63ba1432-d9ab-4d32-a64f-c1174be4fd78"
      },
      "execution_count": 22,
      "outputs": [
        {
          "output_type": "execute_result",
          "data": {
            "text/plain": [
              "((400, 5), (400, 5))"
            ]
          },
          "metadata": {},
          "execution_count": 22
        }
      ]
    },
    {
      "cell_type": "code",
      "source": [
        "# 1) 유의하지 않은 독립변수의 개수\n",
        "from statsmodels.formula.api import logit\n",
        "formula = \"target ~ age + service + social + booked\"\n",
        "model = logit(formula, data=a).fit()\n",
        "print(model.summary())\n",
        "print(\"1.\", sum(model.pvalues[1:] >= 0.05)) # 상수항(Intercept) 제외\n",
        "\n",
        "# 2. 수정된 모델에서 가장 큰 p-value를 가진 변수의 이름\n",
        "formula = 'target ~ age + booked'\n",
        "model = logit(formula, data=a).fit()\n",
        "print(model.summary())\n",
        "print(\"2.\", model.pvalues[1:].idxmax()) # 상수항(Intercept) 제외\n",
        "\n",
        "\n",
        "# 3. 수정된 모델에서 독립변수 중 가장 큰 양의 회귀계수를 가진 변수의 이름\n",
        "# print(\"3.\", model.params[1:].idxmax())\n",
        "print(\"3. 답 없음(양의 회귀계수가 없음)\")\n",
        "\n",
        "# 4. 로그 우도\n",
        "print(\"4.\", model.llf)\n",
        "\n",
        "# 5. 잔차이탈도\n",
        "print(\"5.\", -2 * model.llf)\n",
        "\n",
        "# 6. 'booked' 변수가 3 증가할 때 오즈비\n",
        "import numpy as np\n",
        "print(\"6.\", np.exp(model.params['booked'] * 3))\n",
        "\n",
        "# 7. p-value가 0.05보다 작은 회귀계수의 총합\n",
        "print(\"7.\", model.params[model.pvalues < 0.05].sum()) # 상수항(절편)도 포함\n",
        "\n",
        "# 8. 정확도\n",
        "pred = model.predict(b)\n",
        "pred = (pred > 0.5).astype(int)\n",
        "from sklearn.metrics import accuracy_score\n",
        "accuracy = accuracy_score(b['target'], pred)\n",
        "print(\"8.\", accuracy)\n",
        "\n",
        "# 9. 오류율\n",
        "error_rate = 1 - accuracy\n",
        "error_rate\n",
        "print(\"9.\", error_rate)"
      ],
      "metadata": {
        "colab": {
          "base_uri": "https://localhost:8080/"
        },
        "id": "vh_eEb_MGky6",
        "outputId": "eaa86d52-9ae4-4026-81ff-5168e9c44760"
      },
      "execution_count": 23,
      "outputs": [
        {
          "output_type": "stream",
          "name": "stdout",
          "text": [
            "Optimization terminated successfully.\n",
            "         Current function value: 0.527521\n",
            "         Iterations 6\n",
            "                           Logit Regression Results                           \n",
            "==============================================================================\n",
            "Dep. Variable:                 target   No. Observations:                  400\n",
            "Model:                          Logit   Df Residuals:                      395\n",
            "Method:                           MLE   Df Model:                            4\n",
            "Date:                Sun, 24 Nov 2024   Pseudo R-squ.:                 0.05254\n",
            "Time:                        02:46:58   Log-Likelihood:                -211.01\n",
            "converged:                       True   LL-Null:                       -222.71\n",
            "Covariance Type:            nonrobust   LLR p-value:                 0.0001052\n",
            "==============================================================================\n",
            "                 coef    std err          z      P>|z|      [0.025      0.975]\n",
            "------------------------------------------------------------------------------\n",
            "Intercept      2.3314      1.204      1.937      0.053      -0.028       4.691\n",
            "age           -0.1043      0.038     -2.781      0.005      -0.178      -0.031\n",
            "service        0.0452      0.079      0.572      0.567      -0.110       0.200\n",
            "social         0.1920      0.247      0.779      0.436      -0.291       0.675\n",
            "booked        -0.9542      0.272     -3.512      0.000      -1.487      -0.422\n",
            "==============================================================================\n",
            "1. 2\n",
            "Optimization terminated successfully.\n",
            "         Current function value: 0.528581\n",
            "         Iterations 6\n",
            "                           Logit Regression Results                           \n",
            "==============================================================================\n",
            "Dep. Variable:                 target   No. Observations:                  400\n",
            "Model:                          Logit   Df Residuals:                      397\n",
            "Method:                           MLE   Df Model:                            2\n",
            "Date:                Sun, 24 Nov 2024   Pseudo R-squ.:                 0.05064\n",
            "Time:                        02:46:58   Log-Likelihood:                -211.43\n",
            "converged:                       True   LL-Null:                       -222.71\n",
            "Covariance Type:            nonrobust   LLR p-value:                 1.265e-05\n",
            "==============================================================================\n",
            "                 coef    std err          z      P>|z|      [0.025      0.975]\n",
            "------------------------------------------------------------------------------\n",
            "Intercept      2.4581      1.184      2.076      0.038       0.137       4.779\n",
            "age           -0.1025      0.037     -2.752      0.006      -0.176      -0.030\n",
            "booked        -0.9461      0.267     -3.542      0.000      -1.470      -0.423\n",
            "==============================================================================\n",
            "2. age\n",
            "3. 답 없음(양의 회귀계수가 없음)\n",
            "4. -211.4323825144558\n",
            "5. 422.8647650289116\n",
            "6. 0.058533122917711476\n",
            "7. 1.409468270586192\n",
            "8. 0.765\n",
            "9. 0.235\n"
          ]
        }
      ]
    },
    {
      "cell_type": "code",
      "source": [],
      "metadata": {
        "id": "MAwTFtwCJ-Z_"
      },
      "execution_count": 23,
      "outputs": []
    }
  ],
  "metadata": {
    "colab": {
      "provenance": []
    },
    "kernelspec": {
      "display_name": "Python 3",
      "name": "python3"
    },
    "language_info": {
      "name": "python"
    }
  },
  "nbformat": 4,
  "nbformat_minor": 0
}