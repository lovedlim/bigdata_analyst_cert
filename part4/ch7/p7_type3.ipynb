{
  "nbformat": 4,
  "nbformat_minor": 0,
  "metadata": {
    "colab": {
      "provenance": []
    },
    "kernelspec": {
      "name": "python3",
      "display_name": "Python 3"
    },
    "language_info": {
      "name": "python"
    }
  },
  "cells": [
    {
      "cell_type": "markdown",
      "source": [
        "[구글 코랩(Colab)에서 실행하기](https://colab.research.google.com/github/lovedlim/bigdata_analyst_cert/blob/main/part4/ch7/p7_type3.ipynb)"
      ],
      "metadata": {
        "id": "znZZZKmko0kX"
      }
    },
    {
      "cell_type": "markdown",
      "source": [
        "## 작업형3"
      ],
      "metadata": {
        "id": "H3N9Ou_Oo2mV"
      }
    },
    {
      "cell_type": "markdown",
      "source": [
        "### 문제1-1"
      ],
      "metadata": {
        "id": "paHiKoCrtKnv"
      }
    },
    {
      "cell_type": "code",
      "source": [
        "import pandas as pd\n",
        "# df = pd.read_csv(\"clam.csv\")\n",
        "df = pd.read_csv(\"https://raw.githubusercontent.com/lovedlim/bigdata_analyst_cert/main/part4/ch7/clam.csv\")\n",
        "\n",
        "# 데이터셋 분할\n",
        "print(df.shape)\n",
        "train = df.iloc[:210]\n",
        "test = df.iloc[210:]\n",
        "print(train.shape)\n",
        "\n",
        "print(train.head())"
      ],
      "metadata": {
        "colab": {
          "base_uri": "https://localhost:8080/"
        },
        "id": "H38dKQCTrB_5",
        "outputId": "733154f4-f39c-4261-d606-77a8023ae92d"
      },
      "execution_count": 6,
      "outputs": [
        {
          "output_type": "stream",
          "name": "stdout",
          "text": [
            "(300, 6)\n",
            "(210, 6)\n",
            "   age    length  diameter    height     weight  gender\n",
            "0    6  0.474627  0.211352  0.178189  78.971766       1\n",
            "1    1  0.465847  0.339388  0.170522  98.781960       1\n",
            "2    4  0.122807  0.238691  0.106924  88.792625       0\n",
            "3    4  0.204579  0.360543  0.034261   1.028847       0\n",
            "4    8  0.243458  0.358037  0.128080   6.503367       0\n"
          ]
        }
      ]
    },
    {
      "cell_type": "code",
      "source": [
        "from statsmodels.formula.api import logit\n",
        "import numpy as np\n",
        "\n",
        "# 1) 로지스틱 회귀 모델 생성 및 학습\n",
        "model = logit(\"gender ~ weight\", data=train).fit()\n",
        "\n",
        "# 2) 오즈비 계산\n",
        "odds_ratio = np.exp(model.params['weight'])\n",
        "print(round(odds_ratio, 4))"
      ],
      "metadata": {
        "colab": {
          "base_uri": "https://localhost:8080/"
        },
        "id": "m9Y_2uBYFnot",
        "outputId": "13a98535-a066-4be7-a676-4fc793b836ba"
      },
      "execution_count": 7,
      "outputs": [
        {
          "output_type": "stream",
          "name": "stdout",
          "text": [
            "Optimization terminated successfully.\n",
            "         Current function value: 0.690045\n",
            "         Iterations 4\n",
            "1.0047\n"
          ]
        }
      ]
    },
    {
      "cell_type": "markdown",
      "source": [
        "### 문제1-2"
      ],
      "metadata": {
        "id": "yeKVhetBtS8N"
      }
    },
    {
      "cell_type": "code",
      "source": [
        "# 1) 로지스틱 회귀 모델 생성 및 학습\n",
        "formula = \"gender ~ age + length + diameter + height + weight\"\n",
        "model = logit(formula, data=train).fit()\n",
        "\n",
        "# 2) 잔차이탈도\n",
        "print(round(-2 * model.llf,2))"
      ],
      "metadata": {
        "colab": {
          "base_uri": "https://localhost:8080/"
        },
        "id": "4rCVKX-t_L61",
        "outputId": "2b6b377e-7d1a-4952-8021-75e4c1c12fea"
      },
      "execution_count": 8,
      "outputs": [
        {
          "output_type": "stream",
          "name": "stdout",
          "text": [
            "Optimization terminated successfully.\n",
            "         Current function value: 0.683173\n",
            "         Iterations 4\n",
            "286.93\n"
          ]
        }
      ]
    },
    {
      "cell_type": "markdown",
      "source": [
        "### 문제1-3"
      ],
      "metadata": {
        "id": "x4u7dfFTtUs9"
      }
    },
    {
      "cell_type": "code",
      "source": [
        "from sklearn.metrics import accuracy_score\n",
        "\n",
        "# 1) test데이터를 사용해 예측 (0.5 미만: 0, 0.5 이상 1)\n",
        "model = logit(\"gender ~ weight\", data=train).fit()\n",
        "target = test.pop('gender')\n",
        "pred = model.predict(test)\n",
        "pred = (pred > 0.5).astype(int)\n",
        "\n",
        "# 2) 실제 값과 예측값을 사용하여 정확도 계산\n",
        "accuracy = accuracy_score(target, pred)\n",
        "\n",
        "# 3) 오류율 계산\n",
        "error_rate = 1 - accuracy\n",
        "print(round(error_rate, 3))\n",
        "# 0.478"
      ],
      "metadata": {
        "colab": {
          "base_uri": "https://localhost:8080/"
        },
        "id": "7x8XLDu4HksT",
        "outputId": "5a5e5d32-f0ea-4e62-9cbc-7765ae478b6e"
      },
      "execution_count": 9,
      "outputs": [
        {
          "output_type": "stream",
          "name": "stdout",
          "text": [
            "Optimization terminated successfully.\n",
            "         Current function value: 0.690045\n",
            "         Iterations 4\n",
            "0.478\n"
          ]
        }
      ]
    },
    {
      "cell_type": "markdown",
      "source": [
        "### 문제2-1"
      ],
      "metadata": {
        "id": "4MSQ0eB1tWsh"
      }
    },
    {
      "cell_type": "code",
      "source": [
        "import pandas as pd\n",
        "\n",
        "# df = pd.read_csv(\"system_cpu.csv\")\n",
        "df = pd.read_csv(\"https://raw.githubusercontent.com/lovedlim/bigdata_analyst_cert/main/part4/ch7/system_cpu.csv\")\n",
        "\n",
        "print(df.head())"
      ],
      "metadata": {
        "colab": {
          "base_uri": "https://localhost:8080/"
        },
        "id": "OlvzgzRDcNt8",
        "outputId": "424000fc-c180-4157-8975-81a9f87ce6cd"
      },
      "execution_count": null,
      "outputs": [
        {
          "output_type": "stream",
          "name": "stdout",
          "text": [
            "     ERP  Feature1  Feature2  Feature3    CPU\n",
            "0   30.6     235.1      44.5      44.0  112.3\n",
            "1   40.3      36.6      46.4      36.1   58.6\n",
            "2   57.7      52.2      66.5       2.0   55.3\n",
            "3  128.3     196.2      59.8      57.4  103.2\n",
            "4   80.3      75.2      59.6      58.2  104.1\n"
          ]
        }
      ]
    },
    {
      "cell_type": "code",
      "source": [
        "import pandas as pd\n",
        "# df = pd.read_csv(\"system_cpu.csv\")\n",
        "df = pd.read_csv(\"https://raw.githubusercontent.com/lovedlim/bigdata_analyst_cert/main/part4/ch7/system_cpu.csv\")\n",
        "\n",
        "# 1) ERP와 각 변수 사이의 상관계수 계산\n",
        "corr_matrix = df.corr()\n",
        "\n",
        "# 2) ERP와 다른 변수들과의 상관계수 출력\n",
        "erp_corr = corr_matrix['ERP'].sort_values(ascending=False)\n",
        "print(erp_corr)"
      ],
      "metadata": {
        "colab": {
          "base_uri": "https://localhost:8080/"
        },
        "id": "6POPUMi3Axb6",
        "outputId": "f33741aa-f50a-4364-80a6-e544491fc239"
      },
      "execution_count": null,
      "outputs": [
        {
          "output_type": "stream",
          "name": "stdout",
          "text": [
            "ERP         1.000000\n",
            "Feature3    0.882194\n",
            "CPU         0.092455\n",
            "Feature2    0.092432\n",
            "Feature1   -0.053848\n",
            "Name: ERP, dtype: float64\n"
          ]
        }
      ]
    },
    {
      "cell_type": "markdown",
      "source": [
        "### 문제2-2, 2-3"
      ],
      "metadata": {
        "id": "EVAJRDHi6gAG"
      }
    },
    {
      "cell_type": "code",
      "source": [
        "from statsmodels.formula.api import ols\n",
        "\n",
        "# 1) CPU가 100 미만인 데이터 필터링\n",
        "filtered_df = df[df['CPU'] < 100]\n",
        "\n",
        "# 2) 선형회귀 모델 생성: ERP를 종속 변수로, 나머지 변수들을 독립 변수로 설정\n",
        "model = ols('ERP ~ Feature1 + Feature2 + Feature3 + CPU', data=filtered_df).fit()\n",
        "\n",
        "# 3) 모델 요약 정보 출력\n",
        "print(model.summary())"
      ],
      "metadata": {
        "colab": {
          "base_uri": "https://localhost:8080/"
        },
        "id": "QW0SyhImA1l0",
        "outputId": "e654d8d5-ada0-4f4d-f30e-a8e555466034"
      },
      "execution_count": null,
      "outputs": [
        {
          "output_type": "stream",
          "name": "stdout",
          "text": [
            "                            OLS Regression Results                            \n",
            "==============================================================================\n",
            "Dep. Variable:                    ERP   R-squared:                       0.755\n",
            "Model:                            OLS   Adj. R-squared:                  0.736\n",
            "Method:                 Least Squares   F-statistic:                     39.30\n",
            "Date:                Mon, 05 Aug 2024   Prob (F-statistic):           5.36e-15\n",
            "Time:                        16:26:10   Log-Likelihood:                -260.40\n",
            "No. Observations:                  56   AIC:                             530.8\n",
            "Df Residuals:                      51   BIC:                             540.9\n",
            "Df Model:                           4                                         \n",
            "Covariance Type:            nonrobust                                         \n",
            "==============================================================================\n",
            "                 coef    std err          t      P>|t|      [0.025      0.975]\n",
            "------------------------------------------------------------------------------\n",
            "Intercept     51.4133     19.112      2.690      0.010      13.045      89.782\n",
            "Feature1      -0.0242      0.059     -0.409      0.684      -0.143       0.094\n",
            "Feature2       0.0602      0.106      0.569      0.572      -0.152       0.273\n",
            "Feature3       1.4126      0.113     12.458      0.000       1.185       1.640\n",
            "CPU           -0.4651      0.234     -1.985      0.053      -0.936       0.005\n",
            "==============================================================================\n",
            "Omnibus:                        3.758   Durbin-Watson:                   1.762\n",
            "Prob(Omnibus):                  0.153   Jarque-Bera (JB):                2.757\n",
            "Skew:                           0.436   Prob(JB):                        0.252\n",
            "Kurtosis:                       3.648   Cond. No.                         780.\n",
            "==============================================================================\n",
            "\n",
            "Notes:\n",
            "[1] Standard Errors assume that the covariance matrix of the errors is correctly specified.\n"
          ]
        }
      ]
    },
    {
      "cell_type": "code",
      "source": [],
      "metadata": {
        "id": "vf9FgVSOZKhd"
      },
      "execution_count": null,
      "outputs": []
    }
  ]
}