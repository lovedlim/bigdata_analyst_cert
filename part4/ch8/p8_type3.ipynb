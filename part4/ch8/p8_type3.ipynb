{
  "nbformat": 4,
  "nbformat_minor": 0,
  "metadata": {
    "colab": {
      "provenance": []
    },
    "kernelspec": {
      "name": "python3",
      "display_name": "Python 3"
    },
    "language_info": {
      "name": "python"
    }
  },
  "cells": [
    {
      "cell_type": "markdown",
      "source": [
        "[구글 코랩(Colab)에서 실행하기](https://colab.research.google.com/github/lovedlim/bigdata_analyst_cert/blob/main/part4/ch8/p8_type3.ipynb)"
      ],
      "metadata": {
        "id": "tPGySQKUE-DY"
      }
    },
    {
      "cell_type": "markdown",
      "source": [
        "## 작업형3"
      ],
      "metadata": {
        "id": "YbYMqxq0Fyl8"
      }
    },
    {
      "cell_type": "markdown",
      "source": [
        "### 문제1-1"
      ],
      "metadata": {
        "id": "cg92KgRLFlV9"
      }
    },
    {
      "cell_type": "code",
      "source": [
        "import pandas as pd\n",
        "# df = pd.read_csv(\"churn.csv\")\n",
        "df = pd.read_csv(\"https://raw.githubusercontent.com/lovedlim/bigdata_analyst_cert/main/part4/ch8/churn.csv\")\n",
        "\n",
        "# 1) 로지스틱 회귀분석을 위한 포뮬라 생성\n",
        "formula = \"Churn ~ AccountWeeks + ContractRenewal + DataPlan + DataUsage + CustServCalls + DayMins + DayCalls + MonthlyCharge + OverageFee + RoamMins\"\n",
        "\n",
        "# 2) 로지스틱 회귀 모델 생성 및 학습\n",
        "from statsmodels.formula.api import logit\n",
        "model = logit(formula, data=df).fit()\n",
        "\n",
        "# 3) 유의하지 않은 독립변수의 개수 구하기\n",
        "print(model.summary())\n",
        "sum(model.pvalues[1:] > 0.05) # Intercept는 독립변수가 아니므로 제외"
      ],
      "metadata": {
        "colab": {
          "base_uri": "https://localhost:8080/"
        },
        "id": "1Tq5gIOPFmnQ",
        "outputId": "3db39fba-1fd1-4b8b-e466-511f949d12a3"
      },
      "execution_count": null,
      "outputs": [
        {
          "output_type": "stream",
          "name": "stdout",
          "text": [
            "Optimization terminated successfully.\n",
            "         Current function value: 0.393603\n",
            "         Iterations 6\n",
            "                           Logit Regression Results                           \n",
            "==============================================================================\n",
            "Dep. Variable:                  Churn   No. Observations:                 1000\n",
            "Model:                          Logit   Df Residuals:                      989\n",
            "Method:                           MLE   Df Model:                           10\n",
            "Date:                Sun, 07 Jul 2024   Pseudo R-squ.:                 0.02367\n",
            "Time:                        08:42:24   Log-Likelihood:                -393.60\n",
            "converged:                       True   LL-Null:                       -403.14\n",
            "Covariance Type:            nonrobust   LLR p-value:                   0.03924\n",
            "===================================================================================\n",
            "                      coef    std err          z      P>|z|      [0.025      0.975]\n",
            "-----------------------------------------------------------------------------------\n",
            "Intercept          -2.2146      0.913     -2.425      0.015      -4.005      -0.424\n",
            "AccountWeeks        0.0026      0.002      1.114      0.265      -0.002       0.007\n",
            "ContractRenewal     0.1603      0.325      0.493      0.622      -0.477       0.798\n",
            "DataPlan            0.2874      0.198      1.454      0.146      -0.100       0.675\n",
            "DataUsage          -0.1698      0.072     -2.343      0.019      -0.312      -0.028\n",
            "CustServCalls       0.1374      0.074      1.858      0.063      -0.008       0.282\n",
            "DayMins            -0.0036      0.002     -2.092      0.036      -0.007      -0.000\n",
            "DayCalls            0.0023      0.004      0.526      0.599      -0.006       0.011\n",
            "MonthlyCharge       0.0042      0.005      0.778      0.436      -0.006       0.015\n",
            "OverageFee         -0.0127      0.036     -0.352      0.725      -0.084       0.058\n",
            "RoamMins            0.0098      0.034      0.292      0.770      -0.056       0.076\n",
            "===================================================================================\n"
          ]
        },
        {
          "output_type": "execute_result",
          "data": {
            "text/plain": [
              "8"
            ]
          },
          "metadata": {},
          "execution_count": 4
        }
      ]
    },
    {
      "cell_type": "markdown",
      "source": [
        "### 문제1-2"
      ],
      "metadata": {
        "id": "9JlkjE30FnO3"
      }
    },
    {
      "cell_type": "code",
      "source": [
        "# 1) 유의한 변수 선택\n",
        "print(model.pvalues < 0.05)\n",
        "formula = \"Churn ~ DataUsage + DayMins\"\n",
        "\n",
        "# 2) 로지스틱 회귀\n",
        "model = logit(formula, data=df).fit()\n",
        "\n",
        "# 3) 유의한 회귀계수 합계\n",
        "print(model.summary())\n",
        "round(sum(model.params),3)"
      ],
      "metadata": {
        "colab": {
          "base_uri": "https://localhost:8080/"
        },
        "id": "JYQmjQgYFoCZ",
        "outputId": "c635a90c-f83e-4322-92c0-5789ac3066e9"
      },
      "execution_count": null,
      "outputs": [
        {
          "output_type": "stream",
          "name": "stdout",
          "text": [
            "Intercept           True\n",
            "AccountWeeks       False\n",
            "ContractRenewal    False\n",
            "DataPlan           False\n",
            "DataUsage           True\n",
            "CustServCalls      False\n",
            "DayMins             True\n",
            "DayCalls           False\n",
            "MonthlyCharge      False\n",
            "OverageFee         False\n",
            "RoamMins           False\n",
            "dtype: bool\n",
            "Optimization terminated successfully.\n",
            "         Current function value: 0.397599\n",
            "         Iterations 6\n",
            "                           Logit Regression Results                           \n",
            "==============================================================================\n",
            "Dep. Variable:                  Churn   No. Observations:                 1000\n",
            "Model:                          Logit   Df Residuals:                      997\n",
            "Method:                           MLE   Df Model:                            2\n",
            "Date:                Fri, 05 Jul 2024   Pseudo R-squ.:                 0.01375\n",
            "Time:                        16:32:10   Log-Likelihood:                -397.60\n",
            "converged:                       True   LL-Null:                       -403.14\n",
            "Covariance Type:            nonrobust   LLR p-value:                  0.003908\n",
            "==============================================================================\n",
            "                 coef    std err          z      P>|z|      [0.025      0.975]\n",
            "------------------------------------------------------------------------------\n",
            "Intercept     -1.0395      0.303     -3.434      0.001      -1.633      -0.446\n",
            "DataUsage     -0.1697      0.071     -2.376      0.017      -0.310      -0.030\n",
            "DayMins       -0.0039      0.002     -2.264      0.024      -0.007      -0.001\n",
            "==============================================================================\n"
          ]
        },
        {
          "output_type": "execute_result",
          "data": {
            "text/plain": [
              "-1.213"
            ]
          },
          "metadata": {},
          "execution_count": 3
        }
      ]
    },
    {
      "cell_type": "markdown",
      "source": [
        "### 문제1-3"
      ],
      "metadata": {
        "id": "6t_rH44AF5qR"
      }
    },
    {
      "cell_type": "code",
      "source": [
        "# 1) 변수의 회귀계수 추출\n",
        "import numpy as np\n",
        "coef = model.params['DataUsage']\n",
        "\n",
        "# 2) 오즈비 계산\n",
        "round(np.exp(coef * 5),3)"
      ],
      "metadata": {
        "id": "djjtgKoDJ2SV",
        "colab": {
          "base_uri": "https://localhost:8080/"
        },
        "outputId": "fd7627d4-858c-4d33-d7a6-e1a1f4b527e0"
      },
      "execution_count": null,
      "outputs": [
        {
          "output_type": "execute_result",
          "data": {
            "text/plain": [
              "0.428"
            ]
          },
          "metadata": {},
          "execution_count": 4
        }
      ]
    },
    {
      "cell_type": "markdown",
      "source": [
        "### 문제2-1"
      ],
      "metadata": {
        "id": "FXeMYIpql0ht"
      }
    },
    {
      "cell_type": "code",
      "source": [
        "import pandas as pd\n",
        "# df = pd.read_csv(\"piq.csv\")\n",
        "df = pd.read_csv(\"https://raw.githubusercontent.com/lovedlim/bigdata_analyst_cert/main/part4/ch8/piq.csv\")"
      ],
      "metadata": {
        "id": "IyN9mpL8dhTp"
      },
      "execution_count": null,
      "outputs": []
    },
    {
      "cell_type": "code",
      "source": [
        "df.head()"
      ],
      "metadata": {
        "colab": {
          "base_uri": "https://localhost:8080/",
          "height": 206
        },
        "id": "APxzDuO5nzO6",
        "outputId": "e006051a-befe-473b-b00b-87b34098bf0b"
      },
      "execution_count": null,
      "outputs": [
        {
          "output_type": "execute_result",
          "data": {
            "text/plain": [
              "   PIQ  Brain  Height  Weight\n",
              "0  132  85.78    62.5     127\n",
              "1   96  86.54    68.0     135\n",
              "2   84  90.49    66.3     134\n",
              "3  134  79.06    62.0     122\n",
              "4   86  88.91    70.0     180"
            ],
            "text/html": [
              "\n",
              "  <div id=\"df-cf0cb022-49fe-4b86-94c6-adf8a5d7da53\" class=\"colab-df-container\">\n",
              "    <div>\n",
              "<style scoped>\n",
              "    .dataframe tbody tr th:only-of-type {\n",
              "        vertical-align: middle;\n",
              "    }\n",
              "\n",
              "    .dataframe tbody tr th {\n",
              "        vertical-align: top;\n",
              "    }\n",
              "\n",
              "    .dataframe thead th {\n",
              "        text-align: right;\n",
              "    }\n",
              "</style>\n",
              "<table border=\"1\" class=\"dataframe\">\n",
              "  <thead>\n",
              "    <tr style=\"text-align: right;\">\n",
              "      <th></th>\n",
              "      <th>PIQ</th>\n",
              "      <th>Brain</th>\n",
              "      <th>Height</th>\n",
              "      <th>Weight</th>\n",
              "    </tr>\n",
              "  </thead>\n",
              "  <tbody>\n",
              "    <tr>\n",
              "      <th>0</th>\n",
              "      <td>132</td>\n",
              "      <td>85.78</td>\n",
              "      <td>62.5</td>\n",
              "      <td>127</td>\n",
              "    </tr>\n",
              "    <tr>\n",
              "      <th>1</th>\n",
              "      <td>96</td>\n",
              "      <td>86.54</td>\n",
              "      <td>68.0</td>\n",
              "      <td>135</td>\n",
              "    </tr>\n",
              "    <tr>\n",
              "      <th>2</th>\n",
              "      <td>84</td>\n",
              "      <td>90.49</td>\n",
              "      <td>66.3</td>\n",
              "      <td>134</td>\n",
              "    </tr>\n",
              "    <tr>\n",
              "      <th>3</th>\n",
              "      <td>134</td>\n",
              "      <td>79.06</td>\n",
              "      <td>62.0</td>\n",
              "      <td>122</td>\n",
              "    </tr>\n",
              "    <tr>\n",
              "      <th>4</th>\n",
              "      <td>86</td>\n",
              "      <td>88.91</td>\n",
              "      <td>70.0</td>\n",
              "      <td>180</td>\n",
              "    </tr>\n",
              "  </tbody>\n",
              "</table>\n",
              "</div>\n",
              "    <div class=\"colab-df-buttons\">\n",
              "\n",
              "  <div class=\"colab-df-container\">\n",
              "    <button class=\"colab-df-convert\" onclick=\"convertToInteractive('df-cf0cb022-49fe-4b86-94c6-adf8a5d7da53')\"\n",
              "            title=\"Convert this dataframe to an interactive table.\"\n",
              "            style=\"display:none;\">\n",
              "\n",
              "  <svg xmlns=\"http://www.w3.org/2000/svg\" height=\"24px\" viewBox=\"0 -960 960 960\">\n",
              "    <path d=\"M120-120v-720h720v720H120Zm60-500h600v-160H180v160Zm220 220h160v-160H400v160Zm0 220h160v-160H400v160ZM180-400h160v-160H180v160Zm440 0h160v-160H620v160ZM180-180h160v-160H180v160Zm440 0h160v-160H620v160Z\"/>\n",
              "  </svg>\n",
              "    </button>\n",
              "\n",
              "  <style>\n",
              "    .colab-df-container {\n",
              "      display:flex;\n",
              "      gap: 12px;\n",
              "    }\n",
              "\n",
              "    .colab-df-convert {\n",
              "      background-color: #E8F0FE;\n",
              "      border: none;\n",
              "      border-radius: 50%;\n",
              "      cursor: pointer;\n",
              "      display: none;\n",
              "      fill: #1967D2;\n",
              "      height: 32px;\n",
              "      padding: 0 0 0 0;\n",
              "      width: 32px;\n",
              "    }\n",
              "\n",
              "    .colab-df-convert:hover {\n",
              "      background-color: #E2EBFA;\n",
              "      box-shadow: 0px 1px 2px rgba(60, 64, 67, 0.3), 0px 1px 3px 1px rgba(60, 64, 67, 0.15);\n",
              "      fill: #174EA6;\n",
              "    }\n",
              "\n",
              "    .colab-df-buttons div {\n",
              "      margin-bottom: 4px;\n",
              "    }\n",
              "\n",
              "    [theme=dark] .colab-df-convert {\n",
              "      background-color: #3B4455;\n",
              "      fill: #D2E3FC;\n",
              "    }\n",
              "\n",
              "    [theme=dark] .colab-df-convert:hover {\n",
              "      background-color: #434B5C;\n",
              "      box-shadow: 0px 1px 3px 1px rgba(0, 0, 0, 0.15);\n",
              "      filter: drop-shadow(0px 1px 2px rgba(0, 0, 0, 0.3));\n",
              "      fill: #FFFFFF;\n",
              "    }\n",
              "  </style>\n",
              "\n",
              "    <script>\n",
              "      const buttonEl =\n",
              "        document.querySelector('#df-cf0cb022-49fe-4b86-94c6-adf8a5d7da53 button.colab-df-convert');\n",
              "      buttonEl.style.display =\n",
              "        google.colab.kernel.accessAllowed ? 'block' : 'none';\n",
              "\n",
              "      async function convertToInteractive(key) {\n",
              "        const element = document.querySelector('#df-cf0cb022-49fe-4b86-94c6-adf8a5d7da53');\n",
              "        const dataTable =\n",
              "          await google.colab.kernel.invokeFunction('convertToInteractive',\n",
              "                                                    [key], {});\n",
              "        if (!dataTable) return;\n",
              "\n",
              "        const docLinkHtml = 'Like what you see? Visit the ' +\n",
              "          '<a target=\"_blank\" href=https://colab.research.google.com/notebooks/data_table.ipynb>data table notebook</a>'\n",
              "          + ' to learn more about interactive tables.';\n",
              "        element.innerHTML = '';\n",
              "        dataTable['output_type'] = 'display_data';\n",
              "        await google.colab.output.renderOutput(dataTable, element);\n",
              "        const docLink = document.createElement('div');\n",
              "        docLink.innerHTML = docLinkHtml;\n",
              "        element.appendChild(docLink);\n",
              "      }\n",
              "    </script>\n",
              "  </div>\n",
              "\n",
              "\n",
              "<div id=\"df-7503ea9a-a223-46ff-a183-027ac39cd98d\">\n",
              "  <button class=\"colab-df-quickchart\" onclick=\"quickchart('df-7503ea9a-a223-46ff-a183-027ac39cd98d')\"\n",
              "            title=\"Suggest charts\"\n",
              "            style=\"display:none;\">\n",
              "\n",
              "<svg xmlns=\"http://www.w3.org/2000/svg\" height=\"24px\"viewBox=\"0 0 24 24\"\n",
              "     width=\"24px\">\n",
              "    <g>\n",
              "        <path d=\"M19 3H5c-1.1 0-2 .9-2 2v14c0 1.1.9 2 2 2h14c1.1 0 2-.9 2-2V5c0-1.1-.9-2-2-2zM9 17H7v-7h2v7zm4 0h-2V7h2v10zm4 0h-2v-4h2v4z\"/>\n",
              "    </g>\n",
              "</svg>\n",
              "  </button>\n",
              "\n",
              "<style>\n",
              "  .colab-df-quickchart {\n",
              "      --bg-color: #E8F0FE;\n",
              "      --fill-color: #1967D2;\n",
              "      --hover-bg-color: #E2EBFA;\n",
              "      --hover-fill-color: #174EA6;\n",
              "      --disabled-fill-color: #AAA;\n",
              "      --disabled-bg-color: #DDD;\n",
              "  }\n",
              "\n",
              "  [theme=dark] .colab-df-quickchart {\n",
              "      --bg-color: #3B4455;\n",
              "      --fill-color: #D2E3FC;\n",
              "      --hover-bg-color: #434B5C;\n",
              "      --hover-fill-color: #FFFFFF;\n",
              "      --disabled-bg-color: #3B4455;\n",
              "      --disabled-fill-color: #666;\n",
              "  }\n",
              "\n",
              "  .colab-df-quickchart {\n",
              "    background-color: var(--bg-color);\n",
              "    border: none;\n",
              "    border-radius: 50%;\n",
              "    cursor: pointer;\n",
              "    display: none;\n",
              "    fill: var(--fill-color);\n",
              "    height: 32px;\n",
              "    padding: 0;\n",
              "    width: 32px;\n",
              "  }\n",
              "\n",
              "  .colab-df-quickchart:hover {\n",
              "    background-color: var(--hover-bg-color);\n",
              "    box-shadow: 0 1px 2px rgba(60, 64, 67, 0.3), 0 1px 3px 1px rgba(60, 64, 67, 0.15);\n",
              "    fill: var(--button-hover-fill-color);\n",
              "  }\n",
              "\n",
              "  .colab-df-quickchart-complete:disabled,\n",
              "  .colab-df-quickchart-complete:disabled:hover {\n",
              "    background-color: var(--disabled-bg-color);\n",
              "    fill: var(--disabled-fill-color);\n",
              "    box-shadow: none;\n",
              "  }\n",
              "\n",
              "  .colab-df-spinner {\n",
              "    border: 2px solid var(--fill-color);\n",
              "    border-color: transparent;\n",
              "    border-bottom-color: var(--fill-color);\n",
              "    animation:\n",
              "      spin 1s steps(1) infinite;\n",
              "  }\n",
              "\n",
              "  @keyframes spin {\n",
              "    0% {\n",
              "      border-color: transparent;\n",
              "      border-bottom-color: var(--fill-color);\n",
              "      border-left-color: var(--fill-color);\n",
              "    }\n",
              "    20% {\n",
              "      border-color: transparent;\n",
              "      border-left-color: var(--fill-color);\n",
              "      border-top-color: var(--fill-color);\n",
              "    }\n",
              "    30% {\n",
              "      border-color: transparent;\n",
              "      border-left-color: var(--fill-color);\n",
              "      border-top-color: var(--fill-color);\n",
              "      border-right-color: var(--fill-color);\n",
              "    }\n",
              "    40% {\n",
              "      border-color: transparent;\n",
              "      border-right-color: var(--fill-color);\n",
              "      border-top-color: var(--fill-color);\n",
              "    }\n",
              "    60% {\n",
              "      border-color: transparent;\n",
              "      border-right-color: var(--fill-color);\n",
              "    }\n",
              "    80% {\n",
              "      border-color: transparent;\n",
              "      border-right-color: var(--fill-color);\n",
              "      border-bottom-color: var(--fill-color);\n",
              "    }\n",
              "    90% {\n",
              "      border-color: transparent;\n",
              "      border-bottom-color: var(--fill-color);\n",
              "    }\n",
              "  }\n",
              "</style>\n",
              "\n",
              "  <script>\n",
              "    async function quickchart(key) {\n",
              "      const quickchartButtonEl =\n",
              "        document.querySelector('#' + key + ' button');\n",
              "      quickchartButtonEl.disabled = true;  // To prevent multiple clicks.\n",
              "      quickchartButtonEl.classList.add('colab-df-spinner');\n",
              "      try {\n",
              "        const charts = await google.colab.kernel.invokeFunction(\n",
              "            'suggestCharts', [key], {});\n",
              "      } catch (error) {\n",
              "        console.error('Error during call to suggestCharts:', error);\n",
              "      }\n",
              "      quickchartButtonEl.classList.remove('colab-df-spinner');\n",
              "      quickchartButtonEl.classList.add('colab-df-quickchart-complete');\n",
              "    }\n",
              "    (() => {\n",
              "      let quickchartButtonEl =\n",
              "        document.querySelector('#df-7503ea9a-a223-46ff-a183-027ac39cd98d button');\n",
              "      quickchartButtonEl.style.display =\n",
              "        google.colab.kernel.accessAllowed ? 'block' : 'none';\n",
              "    })();\n",
              "  </script>\n",
              "</div>\n",
              "\n",
              "    </div>\n",
              "  </div>\n"
            ],
            "application/vnd.google.colaboratory.intrinsic+json": {
              "type": "dataframe",
              "variable_name": "df",
              "summary": "{\n  \"name\": \"df\",\n  \"rows\": 50,\n  \"fields\": [\n    {\n      \"column\": \"PIQ\",\n      \"properties\": {\n        \"dtype\": \"number\",\n        \"std\": 23,\n        \"min\": 72,\n        \"max\": 150,\n        \"num_unique_values\": 21,\n        \"samples\": [\n          132,\n          98,\n          120\n        ],\n        \"semantic_type\": \"\",\n        \"description\": \"\"\n      }\n    },\n    {\n      \"column\": \"Brain\",\n      \"properties\": {\n        \"dtype\": \"number\",\n        \"std\": 7.875382403413819,\n        \"min\": 79.06,\n        \"max\": 107.95,\n        \"num_unique_values\": 31,\n        \"samples\": [\n          90.59,\n          92.41,\n          80.8\n        ],\n        \"semantic_type\": \"\",\n        \"description\": \"\"\n      }\n    },\n    {\n      \"column\": \"Height\",\n      \"properties\": {\n        \"dtype\": \"number\",\n        \"std\": 3.858465910653283,\n        \"min\": 62.0,\n        \"max\": 77.0,\n        \"num_unique_values\": 22,\n        \"samples\": [\n          62.5,\n          69.0,\n          68.8\n        ],\n        \"semantic_type\": \"\",\n        \"description\": \"\"\n      }\n    },\n    {\n      \"column\": \"Weight\",\n      \"properties\": {\n        \"dtype\": \"number\",\n        \"std\": 20,\n        \"min\": 106,\n        \"max\": 191,\n        \"num_unique_values\": 28,\n        \"samples\": [\n          172,\n          144,\n          139\n        ],\n        \"semantic_type\": \"\",\n        \"description\": \"\"\n      }\n    }\n  ]\n}"
            }
          },
          "metadata": {},
          "execution_count": 6
        }
      ]
    },
    {
      "cell_type": "code",
      "source": [
        "# 1) 다중 선형 회귀 분석\n",
        "from statsmodels.formula.api import ols\n",
        "model = ols('PIQ ~ Brain + Height + Weight', data=df).fit()\n",
        "\n",
        "# 2) 가장 작은 p-value를 가진 변수의 회귀계수 찾기\n",
        "print(model.summary())\n",
        "\n",
        "# 정답: 2.343"
      ],
      "metadata": {
        "colab": {
          "base_uri": "https://localhost:8080/"
        },
        "id": "wSuAcY3LdhWA",
        "outputId": "86d8dab5-e170-4446-8c9c-91ea11397e59"
      },
      "execution_count": null,
      "outputs": [
        {
          "output_type": "stream",
          "name": "stdout",
          "text": [
            "                            OLS Regression Results                            \n",
            "==============================================================================\n",
            "Dep. Variable:                    PIQ   R-squared:                       0.370\n",
            "Model:                            OLS   Adj. R-squared:                  0.329\n",
            "Method:                 Least Squares   F-statistic:                     9.024\n",
            "Date:                Sat, 06 Jul 2024   Prob (F-statistic):           8.25e-05\n",
            "Time:                        14:24:40   Log-Likelihood:                -217.27\n",
            "No. Observations:                  50   AIC:                             442.5\n",
            "Df Residuals:                      46   BIC:                             450.2\n",
            "Df Model:                           3                                         \n",
            "Covariance Type:            nonrobust                                         \n",
            "==============================================================================\n",
            "                 coef    std err          t      P>|t|      [0.025      0.975]\n",
            "------------------------------------------------------------------------------\n",
            "Intercept     74.5114     50.564      1.474      0.147     -27.269     176.292\n",
            "Brain          2.3431      0.456      5.141      0.000       1.426       3.261\n",
            "Height        -2.6444      1.064     -2.485      0.017      -4.786      -0.503\n",
            "Weight         0.0406      0.167      0.243      0.809      -0.296       0.377\n",
            "==============================================================================\n",
            "Omnibus:                        8.608   Durbin-Watson:                   2.386\n",
            "Prob(Omnibus):                  0.014   Jarque-Bera (JB):                2.629\n",
            "Skew:                           0.041   Prob(JB):                        0.269\n",
            "Kurtosis:                       1.880   Cond. No.                     3.48e+03\n",
            "==============================================================================\n",
            "\n",
            "Notes:\n",
            "[1] Standard Errors assume that the covariance matrix of the errors is correctly specified.\n",
            "[2] The condition number is large, 3.48e+03. This might indicate that there are\n",
            "strong multicollinearity or other numerical problems.\n"
          ]
        }
      ]
    },
    {
      "cell_type": "markdown",
      "source": [
        "### 문제 2-2"
      ],
      "metadata": {
        "id": "LAfnt_tiJGf3"
      }
    },
    {
      "cell_type": "code",
      "source": [
        "# 1) 결정계수(R-squared) 값\n",
        "print(round(model.rsquared,3))"
      ],
      "metadata": {
        "colab": {
          "base_uri": "https://localhost:8080/"
        },
        "id": "BTqty9WtfCvB",
        "outputId": "71c70eaf-cbc9-4da9-d27c-9b2f323d859f"
      },
      "execution_count": null,
      "outputs": [
        {
          "output_type": "stream",
          "name": "stdout",
          "text": [
            "0.37\n"
          ]
        }
      ]
    },
    {
      "cell_type": "markdown",
      "source": [
        "### 문제 2-3"
      ],
      "metadata": {
        "id": "VwMYwWHHJcRe"
      }
    },
    {
      "cell_type": "code",
      "source": [
        "# 1) 새로운 데이터 생성\n",
        "new_data = pd.DataFrame({'Brain': [90], 'Height': [70], 'Weight': [150]})\n",
        "\n",
        "# 2) PIQ 예측\n",
        "pred = model.predict(new_data)\n",
        "print(pred)\n",
        "print(round(pred[0]))"
      ],
      "metadata": {
        "colab": {
          "base_uri": "https://localhost:8080/"
        },
        "id": "hMU1CojaIeQG",
        "outputId": "a11f4a0a-32f1-46a5-d4b9-edb68d52e80d"
      },
      "execution_count": null,
      "outputs": [
        {
          "output_type": "stream",
          "name": "stdout",
          "text": [
            "0    106.38302\n",
            "dtype: float64\n",
            "106\n"
          ]
        }
      ]
    },
    {
      "cell_type": "code",
      "source": [],
      "metadata": {
        "id": "C12Cnz0gJlbj"
      },
      "execution_count": null,
      "outputs": []
    }
  ]
}